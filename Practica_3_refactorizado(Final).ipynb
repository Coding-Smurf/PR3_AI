{
  "cells": [
    {
      "cell_type": "code",
      "execution_count": 91,
      "metadata": {
        "id": "xqzHHvtscc-f"
      },
      "outputs": [],
      "source": [
        "# imports\n",
        "import zipfile\n",
        "import os\n",
        "import shutil\n",
        "import random\n",
        "import numpy as np\n",
        "from sklearn.metrics import confusion_matrix, classification_report\n",
        "import tensorflow as tf\n",
        "from tensorflow import keras\n",
        "from keras.callbacks import TensorBoard\n",
        "from keras.preprocessing import image\n",
        "from sklearn.metrics import confusion_matrix, ConfusionMatrixDisplay\n",
        "import matplotlib.pyplot as plt\n",
        "from tensorflow.keras.preprocessing.image import ImageDataGenerator, img_to_array, load_img\n",
        "from google.colab import files\n",
        "from IPython.display import Image\n",
        "from termcolor import colored\n",
        "from matplotlib import patheffects\n",
        "from PIL import Image"
      ]
    },
    {
      "cell_type": "markdown",
      "metadata": {
        "id": "jZHLxmnyfz1m"
      },
      "source": [
        "# extract the zip file and load the data"
      ]
    },
    {
      "cell_type": "markdown",
      "metadata": {
        "id": "hPpAB92Hfz1n"
      },
      "source": [
        "To manage the data set, we will do the following:\n",
        "\n",
        "1. first, we will unzip the dataset and store its contents somewhere we can find.\n",
        "2. After we will create 2 groups of data, training set and test set. Since the contents of the test set provided in the zip file are not labelled, we need to create our own test set from the labelled data.\n",
        "3. after creating the datasets, we will load them into the program so we can use them with our models."
      ]
    },
    {
      "cell_type": "code",
      "execution_count": 93,
      "metadata": {
        "id": "q7iudJNwfz1n"
      },
      "outputs": [],
      "source": [
        "# set this variable to the path of the zip file\n",
        "zip_file = '/content/state-farm-distracted-driver-detection.zip'\n",
        "\n",
        "# set this variable to the path where you want to extract the files\n",
        "path_extracted_files = './extracted_files/'"
      ]
    },
    {
      "cell_type": "markdown",
      "metadata": {
        "id": "rcbao0hyfz1o"
      },
      "source": [
        "step 1: extract the files if they havent been extracted"
      ]
    },
    {
      "cell_type": "code",
      "execution_count": 94,
      "metadata": {
        "colab": {
          "base_uri": "https://localhost:8080/"
        },
        "id": "jaXyZSW_cc-g",
        "outputId": "09483755-7432-48a0-ecf8-946210cb7615"
      },
      "outputs": [
        {
          "name": "stdout",
          "output_type": "stream",
          "text": [
            "Files have already been extracted\n"
          ]
        }
      ],
      "source": [
        "# check if the files have already been extracted\n",
        "if os.path.exists(path_extracted_files):\n",
        "    print(colored('Files have already been extracted', 'green'))\n",
        "else:\n",
        "    print(colored('Extracting files...', 'yellow'))\n",
        "    # if they have not been extracted, extract them\n",
        "    with zipfile.ZipFile(zip_file, 'r') as zip_ref:\n",
        "        zip_ref.extractall(path_extracted_files)\n",
        "\n",
        "    print(colored('Files have been extracted!', 'green'))"
      ]
    },
    {
      "cell_type": "markdown",
      "metadata": {
        "id": "Fo0eZFpxfz1p"
      },
      "source": [
        "clear unnecesary files to optimize space"
      ]
    },
    {
      "cell_type": "code",
      "execution_count": 95,
      "metadata": {
        "colab": {
          "base_uri": "https://localhost:8080/"
        },
        "id": "Y3561Klofz1p",
        "outputId": "e417d211-b506-4551-914b-e6548281c9bd"
      },
      "outputs": [
        {
          "name": "stdout",
          "output_type": "stream",
          "text": [
            "Removing unnecessary files...\n",
            "Unnecessary files have been removed!\n"
          ]
        }
      ],
      "source": [
        "# check if we haven't already removed the unnececesary files, and if so remove them\n",
        "print(colored('Removing unnecessary files...', 'yellow'))\n",
        "if os.path.exists(path_extracted_files + 'driver_imgs_list.csv'):\n",
        "    os.remove(path_extracted_files + 'driver_imgs_list.csv')\n",
        "\n",
        "# do the same for the sample_submission file if it exists\n",
        "if os.path.exists(path_extracted_files + 'sample_submission.csv'):\n",
        "    os.remove(path_extracted_files + 'sample_submission.csv')\n",
        "\n",
        "# clear the unlabelled test set that is inside the provided dataset\n",
        "if os.path.exists(path_extracted_files + 'imgs/test'):\n",
        "    shutil.rmtree(path_extracted_files + 'imgs/test')\n",
        "\n",
        "print(colored('Unnecessary files have been removed!', 'green'))"
      ]
    },
    {
      "cell_type": "markdown",
      "metadata": {
        "id": "Hj0rEbmWfz1p"
      },
      "source": [
        "step 2: create the test set from the labelled data."
      ]
    },
    {
      "cell_type": "code",
      "execution_count": 96,
      "metadata": {
        "colab": {
          "base_uri": "https://localhost:8080/"
        },
        "id": "VfSP15-wcc-g",
        "outputId": "700da3ae-2e63-4d75-bce0-458e46d67bdf"
      },
      "outputs": [
        {
          "name": "stdout",
          "output_type": "stream",
          "text": [
            "Directories already exist\n"
          ]
        }
      ],
      "source": [
        "#make 2 directories named test and train in the content directory with the same folders that are in the train directory\n",
        "if os.path.exists(path_extracted_files + 'test'):\n",
        "    print(colored('Directories already exist', 'green'))\n",
        "else:\n",
        "    print(colored('Creating class directories...', 'yellow'))\n",
        "    os.makedirs(path_extracted_files + 'test')\n",
        "    os.makedirs(path_extracted_files + 'train')\n",
        "\n",
        "    # Get folders inside 'train'\n",
        "    folders = os.listdir(path_extracted_files + 'imgs/train')\n",
        "\n",
        "    # Create the classes folders in 'test' and 'train'\n",
        "    for folder in folders:\n",
        "        os.makedirs(path_extracted_files + f'test/{folder}')\n",
        "        os.makedirs(path_extracted_files + f'train/{folder}')\n",
        "\n",
        "    print(colored('Class directories have been created!', 'green'))"
      ]
    },
    {
      "cell_type": "code",
      "execution_count": 97,
      "metadata": {
        "colab": {
          "base_uri": "https://localhost:8080/"
        },
        "id": "zJBm2GZecc-h",
        "outputId": "4a357705-4362-4b00-f6c8-a349595d8e14"
      },
      "outputs": [
        {
          "name": "stdout",
          "output_type": "stream",
          "text": [
            "Images have already been moved\n"
          ]
        }
      ],
      "source": [
        "# From the initial train directory, generate a new train and test directories, comprising 85% and 15% of the images respectively\n",
        "folders = os.listdir(path_extracted_files + 'imgs/train')\n",
        "\n",
        "# Check if the content/imgs/train/c0 folder is empty\n",
        "if len(os.listdir(path_extracted_files + 'imgs/train/c0')) != 0:\n",
        "\n",
        "    print(colored('Moving images to test and train directories...', 'yellow'))\n",
        "    # Iterate through each folder (c0-c9) in the train directory\n",
        "    for folder in os.listdir(path_extracted_files + 'imgs/train'):\n",
        "\n",
        "        # List all images in the current folder\n",
        "        images = os.listdir(path_extracted_files + f'imgs/train/{folder}')\n",
        "\n",
        "        # Shuffle the list of images randomly\n",
        "        random.shuffle(images)\n",
        "\n",
        "        # Calculate the number of images to move to the test directory (15% of total)\n",
        "        n = int(len(images) * 0.15)\n",
        "\n",
        "        # Select the first n images as test images\n",
        "        test_images = images[:n]\n",
        "\n",
        "        # Move the selected test images to the test directory\n",
        "        for img in test_images:\n",
        "            shutil.move(path_extracted_files + f'imgs/train/{folder}/{img}', path_extracted_files + f'test/{folder}/{img}')\n",
        "\n",
        "    # Move the remaining 85% of the images to the train directory\n",
        "    for folder in os.listdir(path_extracted_files + 'imgs/train'):\n",
        "\n",
        "        # List all images in the current folder\n",
        "        images = os.listdir(path_extracted_files + f'imgs/train/{folder}')\n",
        "\n",
        "        # Shuffle the list of images randomly\n",
        "        random.shuffle(images)\n",
        "\n",
        "        # Move all images to the train directory\n",
        "        for img in images:\n",
        "            shutil.move(path_extracted_files + f'imgs/train/{folder}/{img}', path_extracted_files + f'train/{folder}/{img}')\n",
        "\n",
        "    print(colored('Images have been moved!', 'green'))\n",
        "else:\n",
        "    print(colored('Images have already been moved', 'green'))"
      ]
    },
    {
      "cell_type": "markdown",
      "metadata": {
        "id": "GO4Gcw4qEJpN"
      },
      "source": [
        "step 3: prepare the data for the model"
      ]
    },
    {
      "cell_type": "code",
      "execution_count": 98,
      "metadata": {
        "colab": {
          "base_uri": "https://localhost:8080/"
        },
        "id": "hqUdXHF0cc-h",
        "outputId": "354c5c73-daab-4c53-cccc-9dd31c420d5d"
      },
      "outputs": [
        {
          "name": "stdout",
          "output_type": "stream",
          "text": [
            "Found 19066 images belonging to 10 classes.\n",
            "Found 3358 images belonging to 10 classes.\n",
            "Found 19066 images belonging to 10 classes.\n",
            "Found 3358 images belonging to 10 classes.\n"
          ]
        }
      ],
      "source": [
        "# get the size of the images to no alter them\n",
        "imgage = path_extracted_files + 'train/c0/img_100026.jpg'\n",
        "\n",
        "\n",
        "# create an unaltered version of the data for training the model\n",
        "unaltered_train_datagen = ImageDataGenerator(validation_split=0.1)\n",
        "\n",
        "unaltered_train_generator = unaltered_train_datagen.flow_from_directory(path_extracted_files + 'train',\n",
        "                                                                        batch_size=128,\n",
        "                                                                        target_size=(96,96),\n",
        "                                                                        class_mode='categorical',\n",
        "                                                                        color_mode='rgb')\n",
        "\n",
        "# create an unaltered version of the data for testing the model\n",
        "unaltered_test_datagen = ImageDataGenerator()\n",
        "unaltered_test_generator = unaltered_test_datagen.flow_from_directory(path_extracted_files + 'test',\n",
        "                                                                      target_size=(96,96),\n",
        "                                                                      class_mode='categorical',\n",
        "                                                                      color_mode='rgb')\n",
        "\n",
        "# create a data generator for the augmented data\n",
        "augmented_train_datagen = ImageDataGenerator(validation_split=0.1,\n",
        "                                             rescale=1./255,\n",
        "                                             rotation_range=20,\n",
        "                                             zoom_range=0.15)\n",
        "\n",
        "augmented_train_generator = augmented_train_datagen.flow_from_directory(path_extracted_files + 'train',\n",
        "                                                                        batch_size=128,\n",
        "                                                                        target_size=(96,96),\n",
        "                                                                        class_mode='categorical',\n",
        "                                                                        color_mode='rgb')\n",
        "\n",
        "# create a data generator for the augmented data\n",
        "augmented_test_datagen = ImageDataGenerator(rescale=1./255)\n",
        "\n",
        "augmented_test_generator = augmented_test_datagen.flow_from_directory(path_extracted_files + 'test',\n",
        "                                                                      target_size=(96, 96),\n",
        "                                                                      class_mode='categorical',\n",
        "                                                                      color_mode='rgb')\n",
        "\n"
      ]
    },
    {
      "cell_type": "markdown",
      "metadata": {
        "id": "20QtorU2fz1r"
      },
      "source": [
        "# Define the model"
      ]
    },
    {
      "cell_type": "markdown",
      "metadata": {
        "id": "8pfmT26Ifz1s"
      },
      "source": [
        "select what data we want to use"
      ]
    },
    {
      "cell_type": "code",
      "execution_count": 99,
      "metadata": {
        "id": "LjwL1Knffz1s"
      },
      "outputs": [],
      "source": [
        "# set the data generator to use the training data\n",
        "train_datagen = unaltered_train_generator\n",
        "test_datagen = unaltered_test_generator"
      ]
    },
    {
      "cell_type": "markdown",
      "metadata": {
        "id": "os_xWx3Zfz1s"
      },
      "source": [
        "Define the inputs"
      ]
    },
    {
      "cell_type": "code",
      "execution_count": 100,
      "metadata": {
        "id": "3noPa9_jsNZ9"
      },
      "outputs": [],
      "source": [
        "# Define the input size of the images\n",
        "input_size=96\n",
        "num_colors = 3"
      ]
    },
    {
      "cell_type": "markdown",
      "metadata": {
        "id": "xrhQPohcfz1s"
      },
      "source": [
        "Define the structure of our model"
      ]
    },
    {
      "cell_type": "code",
      "execution_count": 101,
      "metadata": {
        "id": "RkJV_ipHfz1t"
      },
      "outputs": [],
      "source": [
        "allow_testing = True"
      ]
    },
    {
      "cell_type": "code",
      "execution_count": 102,
      "metadata": {
        "id": "LN4yQ4Ekcc-h"
      },
      "outputs": [],
      "source": [
        "# if we are not testing the model, create a predefined model with the following layers\n",
        "if not allow_testing:\n",
        "\n",
        "  # Definition of the network layers\n",
        "  layers = [\n",
        "      # First convolution with 16 filters of size 3 x 3 and relu activation function\n",
        "      keras.layers.Conv2D(16,\n",
        "                        (9,9),\n",
        "                        activation='relu',\n",
        "                        input_shape=(input_size,input_size,num_colors)),\n",
        "\n",
        "      keras.layers.MaxPooling2D(2, 2),\n",
        "\n",
        "      # Second convolution with 32 filters of size 3 x 3 and relu activation function\n",
        "      keras.layers.Conv2D(32,\n",
        "                        (3,3),\n",
        "                        activation='relu'),\n",
        "\n",
        "      keras.layers.MaxPooling2D(2,2),\n",
        "\n",
        "      # Third convolution with 64 filters of size 3 x 3 and relu activation function\n",
        "      keras.layers.Conv2D(64,\n",
        "                        (2,2),\n",
        "                        activation='relu'),\n",
        "\n",
        "      keras.layers.MaxPooling2D(2,2),\n",
        "\n",
        "      # Flattening to transform the information into a vector\n",
        "      keras.layers.Flatten(),\n",
        "      # Dense layer with 512 neurons and relu activation function\n",
        "      keras.layers.Dense(512,activation='relu'),\n",
        "      keras.layers.Dense(512,activation='relu'),\n",
        "      # Output layer with softmax activation function\n",
        "      keras.layers.Dense(10, activation = tf.nn.softmax),\n",
        "  ]\n",
        "\n",
        "  # Create the model with the layers defined above\n",
        "  fixed_model = keras.Sequential(layers, name='Fixed model')\n",
        "\n",
        "  # Configure the Adam optimizer with a learning rate of 0.001\n",
        "  opt = keras.optimizers.Adam(learning_rate=0.001)\n",
        "\n",
        "  # compile the model and show the summary\n",
        "  fixed_model.compile(optimizer=opt,\n",
        "                loss='categorical_crossentropy',\n",
        "                metrics=['accuracy'])\n",
        "\n",
        "  # Network structure\n",
        "  fixed_model.summary()"
      ]
    },
    {
      "cell_type": "code",
      "execution_count": 103,
      "metadata": {
        "id": "g9_rz_3kfz1t"
      },
      "outputs": [],
      "source": [
        "# if we are not testing the hyperparameters, train the model and evaluate it\n",
        "if not allow_testing:\n",
        "    # Train the model using the training set\n",
        "    history = fixed_model.fit(train_datagen,\n",
        "                        steps_per_epoch = 4,\n",
        "                        epochs = 50)\n",
        "\n",
        "    # Evaluation of the model using the test set\n",
        "    results = fixed_model.evaluate(test_datagen)\n",
        "\n",
        "    # show the results\n",
        "    print(results)\n"
      ]
    },
    {
      "cell_type": "markdown",
      "metadata": {
        "id": "ODFHF56Nfz1t"
      },
      "source": [
        "In the following code block we will the define the possible testing cofigurations that our model will use for testing."
      ]
    },
    {
      "cell_type": "code",
      "execution_count": 104,
      "metadata": {
        "id": "UJ7khTTZfz1t"
      },
      "outputs": [],
      "source": [
        "# configure the testing parameters\n",
        "\n",
        "# define the configuration for when we use 3 convolutional layers\n",
        "kernels_3_layers =[\n",
        "    { \"kernels\": [(11,11), (5,5), (3,3)],\n",
        "      \"filters\": [16, 32, 64],\n",
        "    },\n",
        "    { \"kernels\": [(9,9), (5,5), (3,3)],\n",
        "      \"filters\": [16, 32, 64],\n",
        "    },\n",
        "    { \"kernels\": [(7,7), (5,5), (3,3)],\n",
        "      \"filters\": [16, 32, 64],\n",
        "    }\n",
        "]\n",
        "\n",
        "# define the configuration for when we use 2 convolutional layers\n",
        "kernels_2_layers = [\n",
        "    { \"kernels\": [(11,11), (5,5)],\n",
        "      \"filters\": [16, 32],\n",
        "    },\n",
        "    { \"kernels\": [(9,9), (5,5)],\n",
        "      \"filters\": [16, 32],\n",
        "    },\n",
        "    { \"kernels\": [(7,7), (5,5)],\n",
        "      \"filters\": [16, 32],\n",
        "    }\n",
        "]\n",
        "\n",
        "# define the configuration for when we use 4 convolutional layers\n",
        "kernels_4_layers = [\n",
        "    { \"kernels\": [(11,11), (5,5), (3,3), (3,3)],\n",
        "      \"filters\": [16, 32, 64, 128],\n",
        "    },\n",
        "    { \"kernels\": [(9,9), (5,5), (3,3), (3,3)],\n",
        "      \"filters\": [16, 32, 64, 128],\n",
        "    },\n",
        "    { \"kernels\": [(7,7), (5,5), (3,3), (3,3)],\n",
        "      \"filters\": [16, 32, 64, 128],\n",
        "    }\n",
        "]\n",
        "# consolidate the kernel configurations into a single dictionary\n",
        "kernels = {\n",
        "    2: kernels_2_layers,\n",
        "    3: kernels_3_layers,\n",
        "    4: kernels_4_layers\n",
        "}\n",
        "\n",
        "# define the number of convolutional layers\n",
        "convolutional_layers = [2, 3, 4]\n",
        "\n",
        "# define the number of dense layers before the softmax output layer\n",
        "Dense_layers = [1, 2, 3]\n",
        "\n",
        "# define the diferent learning rates\n",
        "learning_rates = [0.005, 0.001, 0.0005]"
      ]
    },
    {
      "cell_type": "markdown",
      "metadata": {
        "id": "eNwReIUFfz1u"
      },
      "source": [
        "Once the different hyperarameter testing configurations have been defined, we will try them and store the models so that we can compare between them."
      ]
    },
    {
      "cell_type": "code",
      "execution_count": null,
      "metadata": {
        "colab": {
          "base_uri": "https://localhost:8080/"
        },
        "id": "bwISRPM_fz1u",
        "outputId": "3395c406-346e-42a9-b95a-c5c5ff872504"
      },
      "outputs": [
        {
          "name": "stdout",
          "output_type": "stream",
          "text": [
            "105/105 [==============================] - 8s 72ms/step - loss: 2.3004 - accuracy: 0.1111\n"
          ]
        },
        {
          "name": "stderr",
          "output_type": "stream",
          "text": [
            "/usr/local/lib/python3.10/dist-packages/keras/src/engine/training.py:3103: UserWarning: You are saving your model as an HDF5 file via `model.save()`. This file format is considered legacy. We recommend using instead the native Keras format, e.g. `model.save('my_model.keras')`.\n",
            "  saving_api.save_model(\n"
          ]
        },
        {
          "name": "stdout",
          "output_type": "stream",
          "text": [
            "Saved: acc:0.11107802391052246, loss:2.300389051437378, ./stored_models/2 conv layers, 1 dense layers, [(11, 11), (5, 5)], [16, 32].h5\n",
            "105/105 [==============================] - 9s 87ms/step - loss: 1.9533 - accuracy: 0.2823\n",
            "Saved: acc:0.2823109030723572, loss:1.9532884359359741, ./stored_models/2 conv layers, 1 dense layers, [(11, 11), (5, 5)], [16, 32].h5\n",
            "105/105 [==============================] - 9s 78ms/step - loss: 0.1140 - accuracy: 0.9702\n",
            "Saved: acc:0.9702203869819641, loss:0.1140221506357193, ./stored_models/2 conv layers, 1 dense layers, [(11, 11), (5, 5)], [16, 32].h5\n",
            "105/105 [==============================] - 7s 64ms/step - loss: 2.3002 - accuracy: 0.1111\n",
            "Saved: acc:0.11107802391052246, loss:2.3001577854156494, ./stored_models/2 conv layers, 1 dense layers, [(9, 9), (5, 5)], [16, 32].h5\n",
            "105/105 [==============================] - 8s 77ms/step - loss: 2.3006 - accuracy: 0.1111\n",
            "Saved: acc:0.11107802391052246, loss:2.3006062507629395, ./stored_models/2 conv layers, 1 dense layers, [(9, 9), (5, 5)], [16, 32].h5\n",
            "105/105 [==============================] - 8s 74ms/step - loss: 0.2086 - accuracy: 0.9363\n",
            "Saved: acc:0.936271607875824, loss:0.20860014855861664, ./stored_models/2 conv layers, 1 dense layers, [(9, 9), (5, 5)], [16, 32].h5\n",
            "105/105 [==============================] - 7s 64ms/step - loss: 1.8636 - accuracy: 0.3931\n",
            "Saved: acc:0.3930911123752594, loss:1.863568902015686, ./stored_models/2 conv layers, 1 dense layers, [(7, 7), (5, 5)], [16, 32].h5\n",
            "105/105 [==============================] - 8s 72ms/step - loss: 2.1944 - accuracy: 0.1930\n",
            "Saved: acc:0.19297200441360474, loss:2.194425106048584, ./stored_models/2 conv layers, 1 dense layers, [(7, 7), (5, 5)], [16, 32].h5\n",
            "105/105 [==============================] - 7s 65ms/step - loss: 0.1640 - accuracy: 0.9592\n",
            "Saved: acc:0.9592019319534302, loss:0.16396160423755646, ./stored_models/2 conv layers, 1 dense layers, [(7, 7), (5, 5)], [16, 32].h5\n",
            "105/105 [==============================] - 7s 68ms/step - loss: 2.3003 - accuracy: 0.1111\n",
            "Saved: acc:0.11107802391052246, loss:2.3003079891204834, ./stored_models/2 conv layers, 2 dense layers, [(11, 11), (5, 5)], [16, 32].h5\n",
            "105/105 [==============================] - 8s 79ms/step - loss: 0.2504 - accuracy: 0.9261\n",
            "Saved: acc:0.9261465072631836, loss:0.2504462003707886, ./stored_models/2 conv layers, 2 dense layers, [(11, 11), (5, 5)], [16, 32].h5\n",
            "105/105 [==============================] - 9s 80ms/step - loss: 0.1056 - accuracy: 0.9717\n",
            "Saved: acc:0.9717093706130981, loss:0.10563677549362183, ./stored_models/2 conv layers, 2 dense layers, [(11, 11), (5, 5)], [16, 32].h5\n",
            "105/105 [==============================] - 7s 67ms/step - loss: 2.3000 - accuracy: 0.1111\n",
            "Saved: acc:0.11107802391052246, loss:2.3000175952911377, ./stored_models/2 conv layers, 2 dense layers, [(9, 9), (5, 5)], [16, 32].h5\n",
            "105/105 [==============================] - 7s 62ms/step - loss: 0.1502 - accuracy: 0.9613\n",
            "Saved: acc:0.9612864851951599, loss:0.15015257894992828, ./stored_models/2 conv layers, 2 dense layers, [(9, 9), (5, 5)], [16, 32].h5\n",
            "105/105 [==============================] - 7s 70ms/step - loss: 0.1101 - accuracy: 0.9684\n",
            "Saved: acc:0.9684336185455322, loss:0.11009547859430313, ./stored_models/2 conv layers, 2 dense layers, [(9, 9), (5, 5)], [16, 32].h5\n",
            "105/105 [==============================] - 9s 80ms/step - loss: 0.2646 - accuracy: 0.9261\n",
            "Saved: acc:0.9261465072631836, loss:0.26460275053977966, ./stored_models/2 conv layers, 2 dense layers, [(7, 7), (5, 5)], [16, 32].h5\n"
          ]
        }
      ],
      "source": [
        "# if we do allow testing, we will test the model with the previously defined configurations\n",
        "if allow_testing:\n",
        "\n",
        "    total_models = len(convolutional_layers) * len(Dense_layers) * len(kernels_3_layers) * len(learning_rates)\n",
        "\n",
        "    models_tested = 0    \n",
        "\n",
        "    stored_models_dir = './stored_models/'\n",
        "    results_file = 'results.csv'\n",
        "\n",
        "    # create the directory if it does not exist\n",
        "    if not os.path.exists(stored_models_dir):\n",
        "        os.makedirs(stored_models_dir)\n",
        "\n",
        "    # if the results file does not exist, create it and write the header\n",
        "    if not os.path.exists(stored_models_dir + results_file):\n",
        "        with open(stored_models_dir + results_file, 'w') as file:\n",
        "            file.write(\"Convolutional Layers, Dense Layers, Kernels, Filters, learning rate, Accuracy, Loss\\n\")\n",
        "\n",
        "\n",
        "    # iterate through the number of convolutional layers\n",
        "    for num_conv_layers in convolutional_layers:\n",
        "        # iterate through the number of dense layers\n",
        "        for num_dense_layers in Dense_layers:\n",
        "            # iterate through the kernel configurations\n",
        "            for kernel_config in kernels[num_conv_layers]:\n",
        "              #iterate through the learning rates to test\n",
        "              for lr in learning_rates:\n",
        "                # create the layers for the model\n",
        "                layers = []\n",
        "                # iterate through the kernel configurations\n",
        "                for i in range(num_conv_layers):\n",
        "                    layers.append(keras.layers.Conv2D(kernel_config[\"filters\"][i],\n",
        "                                                       kernel_config[\"kernels\"][i],\n",
        "                                                       activation='relu',\n",
        "                                                       input_shape=(input_size, input_size, num_colors)))\n",
        "                    layers.append(keras.layers.MaxPooling2D(2, 2))\n",
        "                # add the flatten layer\n",
        "                layers.append(keras.layers.Flatten())\n",
        "                # add the dense layers\n",
        "                for i in range(num_dense_layers):\n",
        "                    layers.append(keras.layers.Dense(512, activation='relu'))\n",
        "                # add the output layer\n",
        "                layers.append(keras.layers.Dense(10, activation = tf.nn.softmax))\n",
        "                # create the model\n",
        "                model = keras.Sequential(layers, name='model')\n",
        "\n",
        "\n",
        "                # Configure the Adam optimizer with the current testing learning rate\n",
        "                opt = keras.optimizers.Adam(learning_rate=lr)\n",
        "\n",
        "                # compile the model\n",
        "                model.compile(optimizer=opt,\n",
        "                              loss='categorical_crossentropy',\n",
        "                              metrics=['accuracy'])\n",
        "                # train the model\n",
        "                history = model.fit(train_datagen,\n",
        "                                    steps_per_epoch = 4,\n",
        "                                    epochs = 50,\n",
        "                                    verbose=0)\n",
        "\n",
        "                # evaluate the model\n",
        "                results = model.evaluate(test_datagen)\n",
        "\n",
        "                # get the loss and accuracy\n",
        "                accuracy = results[1]\n",
        "                loss = results[0]\n",
        "\n",
        "                # set a name for the model\n",
        "                name = f'{stored_models_dir}/acc:{accuracy:.5f}, loss:{loss:.5f}/{num_conv_layers} conv layers, {num_dense_layers} dense layers, {kernel_config[\"kernels\"]}, {kernel_config[\"filters\"]}, {lr}.h5'\n",
        "\n",
        "                # save the model\n",
        "                model.save(name)\n",
        "                print(f'Saved: {name}')\n",
        "\n",
        "                #Write the results to a csv file so we can print it later as a table\n",
        "                with open(stored_models_dir + results_file, 'a') as file:\n",
        "                    file.write(f'{num_conv_layers}, {num_dense_layers}, {kernel_config[\"kernels\"]}, {kernel_config[\"filters\"]},{lr}, {accuracy:.5f}, {loss:.5f}\\n')\n",
        "                \n",
        "\n",
        "                # show the progress of the testing\n",
        "                print()\n",
        "                models_tested += 1\n",
        "                print(f'{models_tested}/{total_models} models tested')\n",
        "\n"
      ]
    },
    {
      "cell_type": "markdown",
      "metadata": {
        "id": "19Ud8Bzkfz1u"
      },
      "source": [
        "# Create the confussion matrix for a chosen model"
      ]
    },
    {
      "cell_type": "code",
      "execution_count": null,
      "metadata": {
        "id": "H73Q9GYYcc-i"
      },
      "outputs": [],
      "source": [
        "# check if we want to use a saved model\n",
        "use_saved_model = False\n",
        "\n",
        "# if we want to use a saved model, set the path to the model\n",
        "if use_saved_model:\n",
        "    # set the path to the model\n",
        "    model_path = './stored_models/3 conv layers, 2 dense layers, (9, 9, 3), [16, 32].h5'\n",
        "\n",
        "    # load the model\n",
        "    model = keras.models.load_model(model_path)\n",
        "    print(f'Loaded model from {model_path}')\n",
        "else:\n",
        "    model = fixed_model\n",
        "\n",
        "# array for the predictions\n",
        "predictions = []\n",
        "\n",
        "# array for the true labels\n",
        "true_labels = []\n",
        "\n",
        "# Iterate over each batch in the test generator\n",
        "for i in range(len(test_generator)):\n",
        "    # Get batch of data and labels and predict on it\n",
        "    batch_data, batch_labels = test_generator[i]\n",
        "    batch_predictions = model.predict(batch_data, verbose=0)\n",
        "    # Append predictions and true labels\n",
        "    predictions.extend(np.argmax(batch_predictions, axis=1))\n",
        "    true_labels.extend(np.argmax(batch_labels, axis=1))\n",
        "\n",
        "cm = confusion_matrix(true_labels, predictions)\n",
        "labels = ['C0', 'C1', 'C2', 'C3', 'C4', 'C5', 'C6', 'C7', 'C8', 'C9']\n",
        "disp = ConfusionMatrixDisplay(cm, display_labels=labels)\n",
        "\n",
        "# Plot the confusion matrix\n",
        "disp.plot(cmap='viridis', text_kw={'size': 20, 'weight': 'bold', 'color': 'white', 'path_effects': [patheffects.withStroke(linewidth=5, foreground='black')]})\n",
        "\n",
        "plt.title('Confusion Matrix')\n",
        "plt.xlabel('Predicted')\n",
        "plt.ylabel('True')\n",
        "plt.show()"
      ]
    },
    {
      "cell_type": "markdown",
      "metadata": {
        "id": "L7MPsh6lfz1v"
      },
      "source": [
        "# Testing an uploaded image"
      ]
    },
    {
      "cell_type": "code",
      "execution_count": null,
      "metadata": {
        "id": "Zw2XAGGZcc-i"
      },
      "outputs": [],
      "source": [
        "label_names = ['safe driving', 'texting - right', 'talking on the phone - right', 'texting - left', 'talking on the phone - left', 'operating the radio', 'drinking', 'reaching behind', 'hair and makeup', 'talking to passenger']\n",
        "minimum_value = 0.78\n",
        "\n",
        "import math\n",
        "\n",
        "# We use the file insertion system of Colab\n",
        "uploaded = files.upload()\n",
        "\n",
        "for filename, filedata in uploaded.items():\n",
        "    # Display the image using IPython.display.Image\n",
        "    display(Image(data=filedata, width=300))\n",
        "\n",
        "    # Image path configuration\n",
        "    path = '/content/' + filename\n",
        "\n",
        "    # Preprocess the image\n",
        "    img = image.load_img(path, target_size=(96, 96))\n",
        "    x = image.img_to_array(img)\n",
        "    x = np.expand_dims(x, axis=0)\n",
        "\n",
        "    # Image transformation into a tensor\n",
        "    image_tensor = np.vstack([x])\n",
        "    #scale the tensor values between 0 and 1\n",
        "    image_tensor = image_tensor / 255.0\n",
        "\n",
        "    # Inference execution\n",
        "    classes = model.predict(image_tensor)\n",
        "\n",
        "    # Get the indices of top three classes\n",
        "    top_three_indices = np.argsort(classes[0])[::-1][:3]\n",
        "\n",
        "    # Print the top three classes and their probabilities\n",
        "    print(f\"{filename} is classified as:\")\n",
        "    for i in top_three_indices:\n",
        "        probability = math.trunc(classes[0][i]*1000000000)/1000000000\n",
        "        print(f\"   - {label_names[i]} with probability {probability}\")\n",
        "\n",
        "    # If no class meets the threshold\n",
        "    if not any(classes[0][i] > minimum_value for i in range(len(classes[0]))):\n",
        "        print(filename + ' is not classified in any class.')"
      ]
    }
  ],
  "metadata": {
    "accelerator": "GPU",
    "colab": {
      "gpuType": "T4",
      "provenance": []
    },
    "kernelspec": {
      "display_name": "Python 3",
      "name": "python3"
    },
    "language_info": {
      "codemirror_mode": {
        "name": "ipython",
        "version": 3
      },
      "file_extension": ".py",
      "mimetype": "text/x-python",
      "name": "python",
      "nbconvert_exporter": "python",
      "pygments_lexer": "ipython3",
      "version": "3.11.1"
    }
  },
  "nbformat": 4,
  "nbformat_minor": 0
}
