{
  "cells": [
    {
      "cell_type": "code",
      "execution_count": 73,
      "metadata": {
        "id": "sA8cvYNlA3lG"
      },
      "outputs": [],
      "source": [
        "import zipfile\n",
        "import os\n",
        "import shutil\n",
        "import random\n",
        "import numpy as np\n",
        "import signal\n",
        "import tensorflow as tf\n",
        "import matplotlib.pyplot as plt\n",
        "\n",
        "from sklearn.metrics import confusion_matrix, classification_report\n",
        "from tensorflow import keras\n",
        "from keras.callbacks import TensorBoard\n",
        "from keras.preprocessing import image\n",
        "from sklearn.metrics import confusion_matrix, ConfusionMatrixDisplay\n",
        "from tensorflow.keras.preprocessing.image import ImageDataGenerator, img_to_array, load_img\n",
        "from keras.optimizers import Adam\n",
        "from google.colab import files\n",
        "from IPython.display import Image\n",
        "\n",
        "import io"
      ]
    },
    {
      "cell_type": "code",
      "execution_count": 52,
      "metadata": {
        "id": "0xCYc-UtA3lI"
      },
      "outputs": [],
      "source": [
        "path_zip = '/content/drive/MyDrive/data/state-farm-distracted-driver-detection.zip'\n",
        "path_extracted_files = '/content/extracted_files/'"
      ]
    },
    {
      "cell_type": "code",
      "source": [
        "# Unzip the zip file state-farm-distracted-driver-detection.zip\n",
        "\n",
        "# If the zip has been already uncompressed, it doesn't do it again\n",
        "if os.path.exists(path_extracted_files):\n",
        "    print(\"The zip file has already been extracted\")\n",
        "else:\n",
        "    with zipfile.ZipFile(path_zip, 'r') as zip_ref:\n",
        "        zip_ref.extractall(\"/content/extracted_files\")"
      ],
      "metadata": {
        "colab": {
          "base_uri": "https://localhost:8080/"
        },
        "id": "DQmG7y1fLsX0",
        "outputId": "54c76758-43e6-4d0b-b085-c9ae5535db45"
      },
      "execution_count": 53,
      "outputs": [
        {
          "output_type": "stream",
          "name": "stdout",
          "text": [
            "The zip file has already been extracted\n"
          ]
        }
      ]
    },
    {
      "cell_type": "code",
      "source": [
        "# Delete the file driver_imgs_list.csv and sample_submission.csv\n",
        "if os.path.exists(path_extracted_files + 'driver_imgs_list.csv'):\n",
        "    os.remove(path_extracted_files + 'driver_imgs_list.csv')\n",
        "\n",
        "if os.path.exists(path_extracted_files + 'sample_submission.csv'):\n",
        "    os.remove(path_extracted_files + 'sample_submission.csv')"
      ],
      "metadata": {
        "id": "YHHMvWH-PpUm"
      },
      "execution_count": 54,
      "outputs": []
    },
    {
      "cell_type": "code",
      "source": [
        "# Delete the folder imgs/test and its images\n",
        "if os.path.exists(path_extracted_files + 'imgs/test'):\n",
        "    shutil.rmtree(path_extracted_files + 'imgs/test')"
      ],
      "metadata": {
        "id": "HzbQJUlVP1BW"
      },
      "execution_count": 55,
      "outputs": []
    },
    {
      "cell_type": "code",
      "execution_count": 56,
      "metadata": {
        "id": "Xi4mvZD1A3lI",
        "outputId": "2362f83a-214c-4db8-c619-efba9a080c5a",
        "colab": {
          "base_uri": "https://localhost:8080/"
        }
      },
      "outputs": [
        {
          "output_type": "stream",
          "name": "stdout",
          "text": [
            "The directories have already been created\n"
          ]
        }
      ],
      "source": [
        "# Make 2 directories named test and train in the content directory with the same folders that are in the train directory\n",
        "if os.path.exists(path_extracted_files + 'test'):\n",
        "    print(\"The directories have already been created\")\n",
        "else:\n",
        "    os.makedirs(path_extracted_files + 'test')\n",
        "    os.makedirs(path_extracted_files + 'train')\n",
        "\n",
        "    # Get folders inside 'train'\n",
        "    folders = os.listdir(path_extracted_files + 'imgs/train')\n",
        "\n",
        "    for folder in folders:\n",
        "        os.makedirs(path_extracted_files + f'test/{folder}')\n",
        "        os.makedirs(path_extracted_files + f'train/{folder}')"
      ]
    },
    {
      "cell_type": "code",
      "execution_count": 57,
      "metadata": {
        "id": "Dg2iJ41RA3lJ",
        "outputId": "248b398d-9b2c-4ce6-8879-acbf128dc573",
        "colab": {
          "base_uri": "https://localhost:8080/"
        }
      },
      "outputs": [
        {
          "output_type": "stream",
          "name": "stdout",
          "text": [
            "The images have already been moved\n"
          ]
        }
      ],
      "source": [
        "# From the initial train directory, generate a new train and test directories, comprising 85% and 15% of the images respectively\n",
        "folders = os.listdir(path_extracted_files + 'imgs/train')\n",
        "\n",
        "# Check if the content/imgs/train/c0 folder is empty\n",
        "if len(os.listdir(path_extracted_files + 'imgs/train/c0')) != 0:\n",
        "\n",
        "    # Iterate through each folder (c0-c9) in the train directory\n",
        "    for folder in os.listdir(path_extracted_files + 'imgs/train'):\n",
        "\n",
        "        # List all images in the current folder\n",
        "        images = os.listdir(path_extracted_files + f'imgs/train/{folder}')\n",
        "\n",
        "        # Shuffle the list of images randomly\n",
        "        random.shuffle(images)\n",
        "\n",
        "        # Calculate the number of images to move to the test directory (15% of total)\n",
        "        n = int(len(images) * 0.15)\n",
        "\n",
        "        # Select the first n images as test images\n",
        "        test_images = images[:n]\n",
        "\n",
        "        # Move the selected test images to the test directory\n",
        "        for img in test_images:\n",
        "            shutil.move(path_extracted_files + f'imgs/train/{folder}/{img}', path_extracted_files + f'test/{folder}/{img}')\n",
        "\n",
        "    # Move the remaining 85% of the images to the train directory\n",
        "    for folder in os.listdir(path_extracted_files + 'imgs/train'):\n",
        "\n",
        "        # List all images in the current folder\n",
        "        images = os.listdir(path_extracted_files + f'imgs/train/{folder}')\n",
        "\n",
        "        # Shuffle the list of images randomly\n",
        "        random.shuffle(images)\n",
        "\n",
        "        # Move all images to the train directory\n",
        "        for img in images:\n",
        "            shutil.move(path_extracted_files + f'imgs/train/{folder}/{img}', path_extracted_files + f'train/{folder}/{img}')\n",
        "else:\n",
        "    print(\"The images have already been moved\")"
      ]
    },
    {
      "cell_type": "code",
      "execution_count": 58,
      "metadata": {
        "id": "qQ8573XiA3lJ",
        "outputId": "3c023829-4082-45c5-b41a-f21ed38a498b",
        "colab": {
          "base_uri": "https://localhost:8080/"
        }
      },
      "outputs": [
        {
          "output_type": "stream",
          "name": "stdout",
          "text": [
            "Found 19066 images belonging to 10 classes.\n",
            "Found 3358 images belonging to 10 classes.\n"
          ]
        }
      ],
      "source": [
        "train_datagen = ImageDataGenerator(\n",
        "    # We scale pixels between 0 and 1\n",
        "    rescale = 1./255,\n",
        "    validation_split = 0.1)\n",
        "\n",
        "# Flow training images in batches of 128 using train_datagen generator\n",
        "train_generator = train_datagen.flow_from_directory(\n",
        "    # We define the directory where the training images are located\n",
        "    path_extracted_files + 'train',\n",
        "    # We transform all images to 96 x 96\n",
        "    target_size=(96, 96),\n",
        "    # We group the images into batches of 128\n",
        "    batch_size=128,\n",
        "    # We specify that the images remain in color (RGB)\n",
        "    color_mode='rgb',\n",
        "    # We define a categorical class type\n",
        "    class_mode='categorical')\n",
        "\n",
        "test_datagen = ImageDataGenerator(\n",
        "    rescale = 1./255)\n",
        "\n",
        "test_generator = test_datagen.flow_from_directory(\n",
        "    # We define the directory where the test images are located\n",
        "    path_extracted_files + 'test',\n",
        "    # We transform all images to 96 x 96\n",
        "    target_size=(96, 96),\n",
        "    # We specify that the images remain in color (RGB)\n",
        "    color_mode='rgb',\n",
        "    # We define a categorical class type\n",
        "    class_mode='categorical')"
      ]
    },
    {
      "cell_type": "code",
      "execution_count": 59,
      "metadata": {
        "id": "5XpE82FzA3lJ"
      },
      "outputs": [],
      "source": [
        "# Definition of the image sizes\n",
        "input_size = 96\n",
        "num_colors = 3\n",
        "\n",
        "# Definition of the network layers\n",
        "layers = [\n",
        "    # First convolution with 16 filters of size 3 x 3 and relu activation function\n",
        "    keras.layers.Conv2D(16,\n",
        "                        (3,3),\n",
        "                        activation='relu',\n",
        "                        input_shape=(input_size,\n",
        "                                    input_size,\n",
        "                                    num_colors)),\n",
        "    # Pooling of size 2 x 2 and stride 1\n",
        "    keras.layers.MaxPooling2D(2, 2),\n",
        "    # Second convolution with 32 filters of size 3 x 3 and relu activation function\n",
        "    keras.layers.Conv2D(32,\n",
        "                        (3,3),\n",
        "                        activation='relu'),\n",
        "    # Pooling of size 2 x 2 and stride 1\n",
        "    keras.layers.MaxPooling2D(2,2),\n",
        "    # Third convolution with 64 filters of size 3 x 3 and relu activation function\n",
        "    keras.layers.Conv2D(64,\n",
        "                        (3,3),\n",
        "                        activation='relu'),\n",
        "    # Pooling of size 2 x 2 and stride 1\n",
        "    keras.layers.MaxPooling2D(2,2),\n",
        "    # Flattening to transform the information into a vector\n",
        "    keras.layers.Flatten(),\n",
        "    # Dense layer with 512 neurons and relu activation function\n",
        "    keras.layers.Dense(512,\n",
        "                       activation='relu'),\n",
        "    # Output layer with softmax activation function\n",
        "    keras.layers.Dense(10,\n",
        "                       activation = tf.nn.softmax),\n",
        "]\n",
        "\n",
        "model = keras.Sequential(layers, name=\"multi-class_classification\")"
      ]
    },
    {
      "cell_type": "code",
      "source": [
        "# Optimization algorithm and loss function configuration\n",
        "model.compile(optimizer='adam',\n",
        "              loss='categorical_crossentropy',\n",
        "              metrics=['accuracy'])\n",
        "\n",
        "# Network structure\n",
        "model.summary()"
      ],
      "metadata": {
        "colab": {
          "base_uri": "https://localhost:8080/"
        },
        "id": "1tYkrreRlSRt",
        "outputId": "aa357bac-8fc9-4ee7-8636-8a5216a7c10a"
      },
      "execution_count": 60,
      "outputs": [
        {
          "output_type": "stream",
          "name": "stdout",
          "text": [
            "Model: \"multi-class_classification\"\n",
            "_________________________________________________________________\n",
            " Layer (type)                Output Shape              Param #   \n",
            "=================================================================\n",
            " conv2d_31 (Conv2D)          (None, 94, 94, 16)        448       \n",
            "                                                                 \n",
            " max_pooling2d_31 (MaxPooli  (None, 47, 47, 16)        0         \n",
            " ng2D)                                                           \n",
            "                                                                 \n",
            " conv2d_32 (Conv2D)          (None, 45, 45, 32)        4640      \n",
            "                                                                 \n",
            " max_pooling2d_32 (MaxPooli  (None, 22, 22, 32)        0         \n",
            " ng2D)                                                           \n",
            "                                                                 \n",
            " conv2d_33 (Conv2D)          (None, 20, 20, 64)        18496     \n",
            "                                                                 \n",
            " max_pooling2d_33 (MaxPooli  (None, 10, 10, 64)        0         \n",
            " ng2D)                                                           \n",
            "                                                                 \n",
            " flatten_10 (Flatten)        (None, 6400)              0         \n",
            "                                                                 \n",
            " dense_20 (Dense)            (None, 512)               3277312   \n",
            "                                                                 \n",
            " dense_21 (Dense)            (None, 10)                5130      \n",
            "                                                                 \n",
            "=================================================================\n",
            "Total params: 3306026 (12.61 MB)\n",
            "Trainable params: 3306026 (12.61 MB)\n",
            "Non-trainable params: 0 (0.00 Byte)\n",
            "_________________________________________________________________\n"
          ]
        }
      ]
    },
    {
      "cell_type": "code",
      "source": [
        "'''\n",
        "learning_rate = 0.01\n",
        "\n",
        "# Create an instance of the Adam optimizer with your desired learning rate\n",
        "optimizer = Adam(learning_rate=learning_rate)\n",
        "\n",
        "# Compile your model with the optimizer\n",
        "model.compile(optimizer=optimizer,\n",
        "              loss='categorical_crossentropy',\n",
        "              metrics=['accuracy'])\n",
        "\n",
        "# Network structure\n",
        "model.summary()\n",
        "'''"
      ],
      "metadata": {
        "colab": {
          "base_uri": "https://localhost:8080/",
          "height": 54
        },
        "id": "GK1plTFRi0la",
        "outputId": "c59b15bf-cbcd-4127-ed3b-47476599a06c"
      },
      "execution_count": 61,
      "outputs": [
        {
          "output_type": "execute_result",
          "data": {
            "text/plain": [
              "\"\\nlearning_rate = 0.01\\n\\n# Create an instance of the Adam optimizer with your desired learning rate\\noptimizer = Adam(learning_rate=learning_rate)\\n\\n# Compile your model with the optimizer\\nmodel.compile(optimizer=optimizer,\\n              loss='categorical_crossentropy',\\n              metrics=['accuracy'])\\n\\n# Network structure\\nmodel.summary()\\n\""
            ],
            "application/vnd.google.colaboratory.intrinsic+json": {
              "type": "string"
            }
          },
          "metadata": {},
          "execution_count": 61
        }
      ]
    },
    {
      "cell_type": "code",
      "execution_count": 62,
      "metadata": {
        "id": "UNm8K3QmA3lK",
        "outputId": "e0d74229-aee3-416e-e022-8550112a0597",
        "colab": {
          "base_uri": "https://localhost:8080/"
        }
      },
      "outputs": [
        {
          "output_type": "stream",
          "name": "stdout",
          "text": [
            "Epoch 1/50\n",
            "4/4 [==============================] - 3s 107ms/step - loss: 2.3315 - accuracy: 0.1035\n",
            "Epoch 2/50\n",
            "4/4 [==============================] - 1s 267ms/step - loss: 2.2789 - accuracy: 0.1250\n",
            "Epoch 3/50\n",
            "4/4 [==============================] - 2s 452ms/step - loss: 2.2258 - accuracy: 0.2461\n",
            "Epoch 4/50\n",
            "4/4 [==============================] - 3s 863ms/step - loss: 2.1127 - accuracy: 0.3574\n",
            "Epoch 5/50\n",
            "4/4 [==============================] - 3s 581ms/step - loss: 1.9407 - accuracy: 0.3418\n",
            "Epoch 6/50\n",
            "4/4 [==============================] - 2s 478ms/step - loss: 1.7980 - accuracy: 0.3652\n",
            "Epoch 7/50\n",
            "4/4 [==============================] - 2s 490ms/step - loss: 1.6351 - accuracy: 0.4219\n",
            "Epoch 8/50\n",
            "4/4 [==============================] - 2s 572ms/step - loss: 1.5005 - accuracy: 0.5195\n",
            "Epoch 9/50\n",
            "4/4 [==============================] - 3s 772ms/step - loss: 1.3511 - accuracy: 0.5508\n",
            "Epoch 10/50\n",
            "4/4 [==============================] - 1s 269ms/step - loss: 1.1252 - accuracy: 0.6680\n",
            "Epoch 11/50\n",
            "4/4 [==============================] - 1s 257ms/step - loss: 1.0940 - accuracy: 0.6602\n",
            "Epoch 12/50\n",
            "4/4 [==============================] - 1s 264ms/step - loss: 0.9787 - accuracy: 0.7148\n",
            "Epoch 13/50\n",
            "4/4 [==============================] - 1s 269ms/step - loss: 0.8486 - accuracy: 0.7676\n",
            "Epoch 14/50\n",
            "4/4 [==============================] - 1s 274ms/step - loss: 0.7146 - accuracy: 0.7695\n",
            "Epoch 15/50\n",
            "4/4 [==============================] - 1s 267ms/step - loss: 0.7864 - accuracy: 0.7520\n",
            "Epoch 16/50\n",
            "4/4 [==============================] - 2s 411ms/step - loss: 0.6681 - accuracy: 0.7988\n",
            "Epoch 17/50\n",
            "4/4 [==============================] - 1s 340ms/step - loss: 0.5831 - accuracy: 0.8438\n",
            "Epoch 18/50\n",
            "4/4 [==============================] - 1s 272ms/step - loss: 0.4140 - accuracy: 0.8867\n",
            "Epoch 19/50\n",
            "4/4 [==============================] - 1s 274ms/step - loss: 0.4642 - accuracy: 0.8555\n",
            "Epoch 20/50\n",
            "4/4 [==============================] - 1s 271ms/step - loss: 0.3917 - accuracy: 0.8984\n",
            "Epoch 21/50\n",
            "4/4 [==============================] - 1s 249ms/step - loss: 0.3448 - accuracy: 0.8926\n",
            "Epoch 22/50\n",
            "4/4 [==============================] - 1s 276ms/step - loss: 0.2955 - accuracy: 0.9121\n",
            "Epoch 23/50\n",
            "4/4 [==============================] - 1s 255ms/step - loss: 0.3211 - accuracy: 0.9121\n",
            "Epoch 24/50\n",
            "4/4 [==============================] - 1s 275ms/step - loss: 0.3393 - accuracy: 0.9062\n",
            "Epoch 25/50\n",
            "4/4 [==============================] - 2s 381ms/step - loss: 0.2391 - accuracy: 0.9395\n",
            "Epoch 26/50\n",
            "4/4 [==============================] - 1s 311ms/step - loss: 0.2650 - accuracy: 0.9355\n",
            "Epoch 27/50\n",
            "4/4 [==============================] - 1s 337ms/step - loss: 0.2457 - accuracy: 0.9336\n",
            "Epoch 28/50\n",
            "4/4 [==============================] - 1s 265ms/step - loss: 0.2680 - accuracy: 0.9238\n",
            "Epoch 29/50\n",
            "4/4 [==============================] - 1s 271ms/step - loss: 0.3518 - accuracy: 0.9043\n",
            "Epoch 30/50\n",
            "4/4 [==============================] - 1s 273ms/step - loss: 0.2080 - accuracy: 0.9395\n",
            "Epoch 31/50\n",
            "4/4 [==============================] - 1s 283ms/step - loss: 0.1563 - accuracy: 0.9668\n",
            "Epoch 32/50\n",
            "4/4 [==============================] - 1s 270ms/step - loss: 0.1767 - accuracy: 0.9551\n",
            "Epoch 33/50\n",
            "4/4 [==============================] - 2s 406ms/step - loss: 0.1422 - accuracy: 0.9590\n",
            "Epoch 34/50\n",
            "4/4 [==============================] - 2s 393ms/step - loss: 0.2082 - accuracy: 0.9453\n",
            "Epoch 35/50\n",
            "4/4 [==============================] - 1s 264ms/step - loss: 0.1428 - accuracy: 0.9648\n",
            "Epoch 36/50\n",
            "4/4 [==============================] - 1s 271ms/step - loss: 0.1603 - accuracy: 0.9668\n",
            "Epoch 37/50\n",
            "4/4 [==============================] - 1s 276ms/step - loss: 0.1391 - accuracy: 0.9688\n",
            "Epoch 38/50\n",
            "4/4 [==============================] - 1s 293ms/step - loss: 0.1684 - accuracy: 0.9570\n",
            "Epoch 39/50\n",
            "4/4 [==============================] - 1s 263ms/step - loss: 0.1189 - accuracy: 0.9707\n",
            "Epoch 40/50\n",
            "4/4 [==============================] - 1s 277ms/step - loss: 0.1226 - accuracy: 0.9609\n",
            "Epoch 41/50\n",
            "4/4 [==============================] - 1s 282ms/step - loss: 0.0944 - accuracy: 0.9805\n",
            "Epoch 42/50\n",
            "4/4 [==============================] - 1s 386ms/step - loss: 0.1097 - accuracy: 0.9668\n",
            "Epoch 43/50\n",
            "4/4 [==============================] - 1s 328ms/step - loss: 0.1005 - accuracy: 0.9766\n",
            "Epoch 44/50\n",
            "4/4 [==============================] - 1s 270ms/step - loss: 0.1008 - accuracy: 0.9668\n",
            "Epoch 45/50\n",
            "4/4 [==============================] - 1s 276ms/step - loss: 0.0650 - accuracy: 0.9844\n",
            "Epoch 46/50\n",
            "4/4 [==============================] - 1s 269ms/step - loss: 0.0712 - accuracy: 0.9883\n",
            "Epoch 47/50\n",
            "4/4 [==============================] - 1s 282ms/step - loss: 0.0880 - accuracy: 0.9805\n",
            "Epoch 48/50\n",
            "4/4 [==============================] - 1s 262ms/step - loss: 0.0919 - accuracy: 0.9766\n",
            "Epoch 49/50\n",
            "4/4 [==============================] - 1s 271ms/step - loss: 0.1029 - accuracy: 0.9668\n",
            "Epoch 50/50\n",
            "4/4 [==============================] - 2s 401ms/step - loss: 0.1223 - accuracy: 0.9746\n",
            "105/105 [==============================] - 8s 75ms/step - loss: 0.1598 - accuracy: 0.9580\n",
            "[0.15980267524719238, 0.958010733127594]\n"
          ]
        }
      ],
      "source": [
        "# Definition of the TF Board callback\n",
        "tensorboard_callback = TensorBoard(\n",
        "    log_dir = 'logs')\n",
        "\n",
        "# Training process execution\n",
        "# Iterations: 15\n",
        "# Number of steps per iteration: 4\n",
        "history = model.fit(train_generator,\n",
        "                    steps_per_epoch = 4,\n",
        "                    epochs = 50,\n",
        "                    callbacks = [tensorboard_callback])\n",
        "\n",
        "# Evaluation of the model using the test set\n",
        "results = model.evaluate(test_generator)\n",
        "\n",
        "print(results)"
      ]
    },
    {
      "cell_type": "code",
      "execution_count": 63,
      "metadata": {
        "id": "4y32ivpxA3lK",
        "outputId": "4c552c4f-68f9-48de-e8eb-9a78854490d0",
        "colab": {
          "base_uri": "https://localhost:8080/",
          "height": 472
        }
      },
      "outputs": [
        {
          "output_type": "display_data",
          "data": {
            "text/plain": [
              "<Figure size 640x480 with 2 Axes>"
            ],
            "image/png": "[encoded data removed]"
          },
          "metadata": {}
        }
      ],
      "source": [
        "predictions = []\n",
        "true_labels = []\n",
        "\n",
        "# Iterate over each batch in the test generator\n",
        "for i in range(len(test_generator)):\n",
        "    # Get batch of data and labels and predict on it\n",
        "    batch_data, batch_labels = test_generator[i]\n",
        "    batch_predictions = model.predict(batch_data, verbose=0)\n",
        "    # Append predictions and true labels\n",
        "    predictions.extend(np.argmax(batch_predictions, axis=1))\n",
        "    true_labels.extend(np.argmax(batch_labels, axis=1))\n",
        "\n",
        "cm = confusion_matrix(true_labels, predictions)\n",
        "labels = ['c0', 'c1', 'c2', 'c3', 'c4', 'c5', 'c6', 'c7', 'c8', 'c9']\n",
        "disp = ConfusionMatrixDisplay(cm, display_labels=labels)\n",
        "disp.plot()\n",
        "plt.title('Confusion Matrix')\n",
        "plt.xlabel('Predicted')\n",
        "plt.ylabel('True')\n",
        "plt.show()"
      ]
    },
    {
      "cell_type": "code",
      "source": [
        "label_names = ['safe driving', 'texting - right', 'talking on the phone - right', 'texting - left', 'talking on the phone - left', 'operating the radio', 'drinking', 'reaching behind', 'hair and makeup', 'talking to passenger']\n",
        "minimum_value = 0.78\n",
        "\n",
        "# We use the file insertion system of Colab\n",
        "uploaded = files.upload()\n",
        "\n",
        "for filename, filedata in uploaded.items():\n",
        "    # Display the image using IPython.display.Image\n",
        "    display(Image(data=filedata, width=300))\n",
        "\n",
        "    # Image path configuration\n",
        "    path = '/content/' + filename\n",
        "\n",
        "    # Preprocess the image\n",
        "    img = image.load_img(path, target_size=(96, 96))\n",
        "    x = image.img_to_array(img)\n",
        "    x = np.expand_dims(x, axis=0)\n",
        "\n",
        "    # Image transformation into a tensor\n",
        "    image_tensor = np.vstack([x])\n",
        "\n",
        "    # Inference execution\n",
        "    classes = model.predict(image_tensor)\n",
        "    print(classes)\n",
        "\n",
        "    # Get the indices of top three classes\n",
        "    top_three_indices = np.argsort(classes[0])[::-1][:3]\n",
        "\n",
        "    # Print the top three classes and their probabilities\n",
        "    print(f\"{filename} is classified as:\")\n",
        "    for i in top_three_indices:\n",
        "        print(f\"   - {label_names[i]} with probability {classes[0][i]}\")\n",
        "\n",
        "    # If no class meets the threshold\n",
        "    if not any(classes[0][i] > minimum_value for i in range(len(classes[0]))):\n",
        "        print(filename + ' is not classified in any class.')\n"
      ],
      "metadata": {
        "colab": {
          "base_uri": "https://localhost:8080/",
          "height": 409
        },
        "id": "MrdfRigX0vR5",
        "outputId": "142f1e1c-686c-4f8d-9c44-333e462e9817"
      },
      "execution_count": 96,
      "outputs": [
        {
          "output_type": "display_data",
          "data": {
            "text/plain": [
              "<IPython.core.display.HTML object>"
            ],
            "text/html": [
              "\n",
              "     <input type=\"file\" id=\"files-43bf9eb9-42b7-4a49-a82d-1bd71e262008\" name=\"files[]\" multiple disabled\n",
              "        style=\"border:none\" />\n",
              "     <output id=\"result-43bf9eb9-42b7-4a49-a82d-1bd71e262008\">\n",
              "      Upload widget is only available when the cell has been executed in the\n",
              "      current browser session. Please rerun this cell to enable.\n",
              "      </output>\n",
              "      <script>// Copyright 2017 Google LLC\n",
              "//\n",
              "// Licensed under the Apache License, Version 2.0 (the \"License\");\n",
              "// you may not use this file except in compliance with the License.\n",
              "// You may obtain a copy of the License at\n",
              "//\n",
              "//      http://www.apache.org/licenses/LICENSE-2.0\n",
              "//\n",
              "// Unless required by applicable law or agreed to in writing, software\n",
              "// distributed under the License is distributed on an \"AS IS\" BASIS,\n",
              "// WITHOUT WARRANTIES OR CONDITIONS OF ANY KIND, either express or implied.\n",
              "// See the License for the specific language governing permissions and\n",
              "// limitations under the License.\n",
              "\n",
              "/**\n",
              " * @fileoverview Helpers for google.colab Python module.\n",
              " */\n",
              "(function(scope) {\n",
              "function span(text, styleAttributes = {}) {\n",
              "  const element = document.createElement('span');\n",
              "  element.textContent = text;\n",
              "  for (const key of Object.keys(styleAttributes)) {\n",
              "    element.style[key] = styleAttributes[key];\n",
              "  }\n",
              "  return element;\n",
              "}\n",
              "\n",
              "// Max number of bytes which will be uploaded at a time.\n",
              "const MAX_PAYLOAD_SIZE = 100 * 1024;\n",
              "\n",
              "function _uploadFiles(inputId, outputId) {\n",
              "  const steps = uploadFilesStep(inputId, outputId);\n",
              "  const outputElement = document.getElementById(outputId);\n",
              "  // Cache steps on the outputElement to make it available for the next call\n",
              "  // to uploadFilesContinue from Python.\n",
              "  outputElement.steps = steps;\n",
              "\n",
              "  return _uploadFilesContinue(outputId);\n",
              "}\n",
              "\n",
              "// This is roughly an async generator (not supported in the browser yet),\n",
              "// where there are multiple asynchronous steps and the Python side is going\n",
              "// to poll for completion of each step.\n",
              "// This uses a Promise to block the python side on completion of each step,\n",
              "// then passes the result of the previous step as the input to the next step.\n",
              "function _uploadFilesContinue(outputId) {\n",
              "  const outputElement = document.getElementById(outputId);\n",
              "  const steps = outputElement.steps;\n",
              "\n",
              "  const next = steps.next(outputElement.lastPromiseValue);\n",
              "  return Promise.resolve(next.value.promise).then((value) => {\n",
              "    // Cache the last promise value to make it available to the next\n",
              "    // step of the generator.\n",
              "    outputElement.lastPromiseValue = value;\n",
              "    return next.value.response;\n",
              "  });\n",
              "}\n",
              "\n",
              "/**\n",
              " * Generator function which is called between each async step of the upload\n",
              " * process.\n",
              " * @param {string} inputId Element ID of the input file picker element.\n",
              " * @param {string} outputId Element ID of the output display.\n",
              " * @return {!Iterable<!Object>} Iterable of next steps.\n",
              " */\n",
              "function* uploadFilesStep(inputId, outputId) {\n",
              "  const inputElement = document.getElementById(inputId);\n",
              "  inputElement.disabled = false;\n",
              "\n",
              "  const outputElement = document.getElementById(outputId);\n",
              "  outputElement.innerHTML = '';\n",
              "\n",
              "  const pickedPromise = new Promise((resolve) => {\n",
              "    inputElement.addEventListener('change', (e) => {\n",
              "      resolve(e.target.files);\n",
              "    });\n",
              "  });\n",
              "\n",
              "  const cancel = document.createElement('button');\n",
              "  inputElement.parentElement.appendChild(cancel);\n",
              "  cancel.textContent = 'Cancel upload';\n",
              "  const cancelPromise = new Promise((resolve) => {\n",
              "    cancel.onclick = () => {\n",
              "      resolve(null);\n",
              "    };\n",
              "  });\n",
              "\n",
              "  // Wait for the user to pick the files.\n",
              "  const files = yield {\n",
              "    promise: Promise.race([pickedPromise, cancelPromise]),\n",
              "    response: {\n",
              "      action: 'starting',\n",
              "    }\n",
              "  };\n",
              "\n",
              "  cancel.remove();\n",
              "\n",
              "  // Disable the input element since further picks are not allowed.\n",
              "  inputElement.disabled = true;\n",
              "\n",
              "  if (!files) {\n",
              "    return {\n",
              "      response: {\n",
              "        action: 'complete',\n",
              "      }\n",
              "    };\n",
              "  }\n",
              "\n",
              "  for (const file of files) {\n",
              "    const li = document.createElement('li');\n",
              "    li.append(span(file.name, {fontWeight: 'bold'}));\n",
              "    li.append(span(\n",
              "        `(${file.type || 'n/a'}) - ${file.size} bytes, ` +\n",
              "        `last modified: ${\n",
              "            file.lastModifiedDate ? file.lastModifiedDate.toLocaleDateString() :\n",
              "                                    'n/a'} - `));\n",
              "    const percent = span('0% done');\n",
              "    li.appendChild(percent);\n",
              "\n",
              "    outputElement.appendChild(li);\n",
              "\n",
              "    const fileDataPromise = new Promise((resolve) => {\n",
              "      const reader = new FileReader();\n",
              "      reader.onload = (e) => {\n",
              "        resolve(e.target.result);\n",
              "      };\n",
              "      reader.readAsArrayBuffer(file);\n",
              "    });\n",
              "    // Wait for the data to be ready.\n",
              "    let fileData = yield {\n",
              "      promise: fileDataPromise,\n",
              "      response: {\n",
              "        action: 'continue',\n",
              "      }\n",
              "    };\n",
              "\n",
              "    // Use a chunked sending to avoid message size limits. See b/62115660.\n",
              "    let position = 0;\n",
              "    do {\n",
              "      const length = Math.min(fileData.byteLength - position, MAX_PAYLOAD_SIZE);\n",
              "      const chunk = new Uint8Array(fileData, position, length);\n",
              "      position += length;\n",
              "\n",
              "      const base64 = btoa(String.fromCharCode.apply(null, chunk));\n",
              "      yield {\n",
              "        response: {\n",
              "          action: 'append',\n",
              "          file: file.name,\n",
              "          data: base64,\n",
              "        },\n",
              "      };\n",
              "\n",
              "      let percentDone = fileData.byteLength === 0 ?\n",
              "          100 :\n",
              "          Math.round((position / fileData.byteLength) * 100);\n",
              "      percent.textContent = `${percentDone}% done`;\n",
              "\n",
              "    } while (position < fileData.byteLength);\n",
              "  }\n",
              "\n",
              "  // All done.\n",
              "  yield {\n",
              "    response: {\n",
              "      action: 'complete',\n",
              "    }\n",
              "  };\n",
              "}\n",
              "\n",
              "scope.google = scope.google || {};\n",
              "scope.google.colab = scope.google.colab || {};\n",
              "scope.google.colab._files = {\n",
              "  _uploadFiles,\n",
              "  _uploadFilesContinue,\n",
              "};\n",
              "})(self);\n",
              "</script> "
            ]
          },
          "metadata": {}
        },
        {
          "output_type": "stream",
          "name": "stdout",
          "text": [
            "Saving img_1.jpg to img_1.jpg\n"
          ]
        },
        {
          "output_type": "display_data",
          "data": {
            "image/jpeg": "[encoded data removed]",
            "text/plain": [
              "<IPython.core.display.Image object>"
            ]
          },
          "metadata": {
            "image/jpeg": {
              "width": 300
            }
          }
        },
        {
          "output_type": "stream",
          "name": "stdout",
          "text": [
            "1/1 [==============================] - 0s 19ms/step\n",
            "[[0. 0. 0. 0. 0. 1. 0. 0. 0. 0.]]\n",
            "img_1.jpg is classified as:\n",
            "   - operating the radio with probability 1.0\n",
            "   - talking to passenger with probability 0.0\n",
            "   - hair and makeup with probability 0.0\n"
          ]
        }
      ]
    }
  ],
  "metadata": {
    "kernelspec": {
      "display_name": "Python 3",
      "name": "python3"
    },
    "language_info": {
      "codemirror_mode": {
        "name": "ipython",
        "version": 3
      },
      "file_extension": ".py",
      "mimetype": "text/x-python",
      "name": "python",
      "nbconvert_exporter": "python",
      "pygments_lexer": "ipython3",
      "version": "3.11.1"
    },
    "colab": {
      "provenance": [],
      "gpuType": "T4"
    },
    "accelerator": "GPU"
  },
  "nbformat": 4,
  "nbformat_minor": 0
}